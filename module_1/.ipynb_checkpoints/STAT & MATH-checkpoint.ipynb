{
 "cells": [
  {
   "cell_type": "markdown",
   "metadata": {},
   "source": [
    "<b>Как найти вероятность X через Z?</b>\n",
    "\n",
    "Чтобы построить на Python эквивалент функций normdist() и norminv(), реализованных во многих инструментах анализа, например, таких как MS Excel, нам понадобится библиотека вероятностных распределений и статистических функций <b>scipy.stats</b>. \n",
    "\n",
    "Импортируем <b>norm</b> для работы с нормально распределенными величинами:"
   ]
  },
  {
   "cell_type": "code",
   "execution_count": 1,
   "metadata": {},
   "outputs": [],
   "source": [
    "from scipy.stats import norm"
   ]
  },
  {
   "cell_type": "markdown",
   "metadata": {},
   "source": [
    "В Python найти P(Z<=z), используя функцию <b>norm.cdf(z)</b>\n",
    "\n",
    "Здесь большая буква <b>Z</b> обозначает <b>стандартную нормальную величину</b>, а <b>z</b> — <b>конкретное число</b>.\n",
    "\n",
    "P(Z<=z) — это то же самое, что и P(Z<z), так как вероятность каждого конкретного значения z непрерывной случайной величины — это просто 0.\n",
    "\n",
    "Например, найти P(Z<=1.5) вы можете, обратившись к функции norm.cdf(1.5). Получается, P(Z<=1.5)~0.93\n",
    "\n",
    "<b>Вероятность, что Z выше какого-то числа z, можно найти от обратного</b>: P(Z>z)=1-P(Z<=z)\n",
    "\n",
    "Также можно решить обратную задачу: найти число z, зная соответствующую вероятность P(Z<=z). Это можно сделать, используя функцию <b>norm.ppf(z)</b>. Например, если P(Z<=z)=0.9, то можно найти, что z~1.28, используя norm.ppf(0.9).\n",
    "\n",
    "Также можно найти z, зная P(Z>z). Например, если P(Z>z)=0.99, то P(Z<=z)=1-P(Z>z)=1-0.99=0.01. Тогда мы найдем z~-2.33 используя norm.ppf(0.01).\n",
    "\n",
    "Z - стандартная нормальная величина. Используя функцию norm.cdf(), найдите ниже указанные значения. Ответ округлите до 2 знаков после разделительной точки."
   ]
  },
  {
   "cell_type": "code",
   "execution_count": 2,
   "metadata": {},
   "outputs": [
    {
     "data": {
      "text/plain": [
       "0.8413447460685429"
      ]
     },
     "execution_count": 2,
     "metadata": {},
     "output_type": "execute_result"
    }
   ],
   "source": [
    "#P(Z<1)\n",
    "norm.cdf(1)"
   ]
  },
  {
   "cell_type": "code",
   "execution_count": 3,
   "metadata": {},
   "outputs": [
    {
     "data": {
      "text/plain": [
       "0.8686431189572693"
      ]
     },
     "execution_count": 3,
     "metadata": {},
     "output_type": "execute_result"
    }
   ],
   "source": [
    "#P(Z<1.12)\n",
    "norm.cdf(1.12)"
   ]
  },
  {
   "cell_type": "code",
   "execution_count": 4,
   "metadata": {},
   "outputs": [
    {
     "data": {
      "text/plain": [
       "0.030741908929465954"
      ]
     },
     "execution_count": 4,
     "metadata": {},
     "output_type": "execute_result"
    }
   ],
   "source": [
    "#P(Z<-1.87)\n",
    "norm.cdf(-1.87)"
   ]
  },
  {
   "cell_type": "code",
   "execution_count": 5,
   "metadata": {},
   "outputs": [
    {
     "data": {
      "text/plain": [
       "0.02275013194817921"
      ]
     },
     "execution_count": 5,
     "metadata": {},
     "output_type": "execute_result"
    }
   ],
   "source": [
    "#P(Z>2)\n",
    "1 - norm.cdf(2)"
   ]
  },
  {
   "cell_type": "markdown",
   "metadata": {},
   "source": [
    "<b>Как находить вероятности и значения для любой нормальной величины?</b>\n",
    "\n",
    "Таким же образом при помощи Python можно находить вероятности и значения для любой нормальной величины, а не только Z, если известны ее параметры: среднее и стандартное отклонение. Для этого есть функции norm.cdf(x, loc = 0, scale = 1) и norm.ppf(q, loc = 0, scale = 1).\n",
    "\n",
    "<b>----------------------------------------------------------------------------------------------------------------</b>\n",
    "\n",
    "<b>norm.cdf(x, loc = 0, scale = 1)</b>\n",
    "\n",
    "Возвращает нормальную функцию распределения для указанного среднего и стандартного отклонения.\n",
    "\n",
    "Синтаксис\n",
    "\n",
    "  - <b>x</b> — значение, для которого строится распределение\n",
    "  - <b>loc</b> — среднее арифметическое распределения\n",
    "  - <b>scale</b> — стандартное отклонение распределения\n",
    "  \n",
    "<b>----------------------------------------------------------------------------------------------------------------</b>\n",
    "\n",
    "<b>norm.ppf(q, loc = 0, scale = 1)</b>\n",
    "\n",
    "Возвращает обратное нормальное распределение для указанного среднего и стандартного отклонения.\n",
    "\n",
    "Синтаксис\n",
    "\n",
    "  - <b>q</b> — вероятность, соответствующая нормальному распределению\n",
    "  - <b>loc</b> — среднее арифметическое распределения\n",
    "  - <b>scale</b> — стандартное отклонение распределения\n",
    "\n",
    "<b>----------------------------------------------------------------------------------------------------------------</b>\n",
    "\n",
    "Например, если <b>X~N(4,2)</b>, можно найти P(X<=5) через функцию <b>norm.cdf(5, 4, 2)</b> в Python.\n",
    "\n",
    "<b>Первый аргумент — число, меньше (либо равно) которого должен быть X, второй и третий аргумент — это среднее и стандартное отклонение X.</b> \n",
    "\n",
    "Вероятность значений в определенном интервале можно найти как разность вероятностей: \\(P(a≤X≤b)=P(X≤b)-P(X≤a)\\), каждую из которых можно вычислить, используя norm.cdf().\n",
    "\n",
    "Также: P(X>=c)=1-P(X<=c)\n",
    "\n",
    "Если же вы хотите найти значение C, зная вероятность P(X<=c), используйте функцию norm.ppf().\n",
    "\n",
    "Так, если X~N(4,2) и P(X<=C)=0.75, то можно найти C через функцию norm.ppf(0.75, 4, 2). Первый аргумент — число C, остальные два — это среднее и стандартное отклонение X."
   ]
  },
  {
   "cell_type": "markdown",
   "metadata": {},
   "source": [
    "<i>Используя функцию norm.ppf(), найдите число C.</i>"
   ]
  },
  {
   "cell_type": "code",
   "execution_count": 6,
   "metadata": {},
   "outputs": [
    {
     "data": {
      "text/plain": [
       "-1.2815515655446004"
      ]
     },
     "execution_count": 6,
     "metadata": {},
     "output_type": "execute_result"
    }
   ],
   "source": [
    "# P(Z<C)=0.1\n",
    "norm.ppf(0.1, 0, 1)"
   ]
  },
  {
   "cell_type": "code",
   "execution_count": 7,
   "metadata": {},
   "outputs": [
    {
     "data": {
      "text/plain": [
       "-1.6448536269514729"
      ]
     },
     "execution_count": 7,
     "metadata": {},
     "output_type": "execute_result"
    }
   ],
   "source": [
    "# P(Z>C)=0.05\n",
    "norm.ppf(0.05, 0, 1)\n",
    "\n",
    "# Ответ почему-то 1.64  . Видимо 1 из формулы не учитывается  P(X>=c)=-P(X<=c)"
   ]
  },
  {
   "cell_type": "code",
   "execution_count": 8,
   "metadata": {},
   "outputs": [
    {
     "data": {
      "text/plain": [
       "-1.9599639845400545"
      ]
     },
     "execution_count": 8,
     "metadata": {},
     "output_type": "execute_result"
    }
   ],
   "source": [
    "# P(Z<C)=0.025\n",
    "norm.ppf(0.025, 0, 1)"
   ]
  },
  {
   "cell_type": "code",
   "execution_count": 9,
   "metadata": {},
   "outputs": [
    {
     "data": {
      "text/plain": [
       "-2.3263478740408408"
      ]
     },
     "execution_count": 9,
     "metadata": {},
     "output_type": "execute_result"
    }
   ],
   "source": [
    "# P(Z>C)=0.01\n",
    "norm.ppf(0.01, 0, 1)\n",
    "\n",
    "# Ответ почему-то 2.33  Видимо 1 из формулы не учитывается  P(X>=c)=-P(X<=c)"
   ]
  },
  {
   "cell_type": "code",
   "execution_count": 10,
   "metadata": {},
   "outputs": [
    {
     "data": {
      "text/plain": [
       "-2.575829303548901"
      ]
     },
     "execution_count": 10,
     "metadata": {},
     "output_type": "execute_result"
    }
   ],
   "source": [
    "# P(Z<C)=0.005\n",
    "norm.ppf(0.005, 0, 1)"
   ]
  },
  {
   "cell_type": "markdown",
   "metadata": {},
   "source": [
    "2.10.1 Известно, что вес жителя Гонконга распределен нормально со средним в 70 кг и стандартным отклонением 5 кг. Лифт в одном бизнес-центре может поднять не более 375 кг. Также на нем указана вместимость не более 5 человек. Другими словами, если  5 человек входят в лифт, их средний вес не должен превысить 75 кг (как 375/5).\n",
    "\n",
    "Какова вероятность, что средний вес случайно подошедших к лифту 5 человек превысит 75 кг и не позволит лифту подняться? Укажите ответ в виде десяточной дроби с 3 знаками после точки-разделителя."
   ]
  },
  {
   "cell_type": "code",
   "execution_count": 11,
   "metadata": {},
   "outputs": [
    {
     "data": {
      "text/plain": [
       "0.012671433369059626"
      ]
     },
     "execution_count": 11,
     "metadata": {},
     "output_type": "execute_result"
    }
   ],
   "source": [
    "# P(W>75)\n",
    "# sigma среднее = sigma / sqrt(n) = 5/sqrt(5) = 2.236\n",
    "1-norm.cdf(75, 70, 2.236)"
   ]
  },
  {
   "cell_type": "markdown",
   "metadata": {},
   "source": [
    "2.10.2 Известно, что 20% взрослого населения в городе Пало Альто, Калифорния, обладают машиной Tesla (другими словами, p, истинная пропорция обладателей Tesla в городе равна 0.2). Допустим, вы берете выборку из 225 взрослых людей из Пало Альто. Какова вероятность, что выборочная пропорция не превысит 16 % (то есть вероятность что p<=0.16)?\n",
    "\n",
    "Укажите ответ в виде десяточной дроби с 3 знаками после точки-разделителя."
   ]
  },
  {
   "cell_type": "code",
   "execution_count": 12,
   "metadata": {},
   "outputs": [
    {
     "data": {
      "text/plain": [
       "0.06680234437420077"
      ]
     },
     "execution_count": 12,
     "metadata": {},
     "output_type": "execute_result"
    }
   ],
   "source": [
    "norm.cdf(0.16, 0.2, 0.026666)"
   ]
  },
  {
   "cell_type": "markdown",
   "metadata": {},
   "source": [
    "Задание 2.11.4\n",
    "\n",
    "Оценки студентов на международной онлайн олимпиаде распределены нормально со средним 700 баллов и стандартным отклонением 120 баллов. Диплом первой категории выдается участникам, набравшим более 820 баллов. Диплом второй категории — участникам, набравшим от 730 до 820 баллов. Для решения задачи используйте функции norm.cdf() и norm.ppf() из пакета scipy.stats.\n",
    "\n",
    "1. Какая доля участников получает диплом 1 категории? Ответ укажите с округлением до 2 знаков после точки-разделителя."
   ]
  },
  {
   "cell_type": "code",
   "execution_count": 13,
   "metadata": {},
   "outputs": [
    {
     "data": {
      "text/plain": [
       "0.15865525393145707"
      ]
     },
     "execution_count": 13,
     "metadata": {},
     "output_type": "execute_result"
    }
   ],
   "source": [
    "# X~N(700,120)\n",
    "# P(X>820)\n",
    "1 - norm.cdf(820, 700, 120)"
   ]
  },
  {
   "cell_type": "markdown",
   "metadata": {},
   "source": [
    "2. Какая доля участников получает диплом 2 категории? Ответ укажите с округлением до 2 знаков после точки-разделителя."
   ]
  },
  {
   "cell_type": "code",
   "execution_count": 14,
   "metadata": {},
   "outputs": [
    {
     "data": {
      "text/plain": [
       "0.24263842038561922"
      ]
     },
     "execution_count": 14,
     "metadata": {},
     "output_type": "execute_result"
    }
   ],
   "source": [
    "# X~N(700,120)\n",
    "# P(730<=X<=820)\n",
    "# P(a≤X≤b)=P(X≤b)-P(X≤a)\n",
    "norm.cdf(820, 700, 120) - norm.cdf(730, 700, 120)"
   ]
  },
  {
   "cell_type": "markdown",
   "metadata": {},
   "source": [
    "3. Некоторые участники порой выставляли ответы, даже не пытаясь решить задачу, случайным образом, стремясь набрать минимальное количество баллов лишь для того, чтобы получить сертификат об участии. Оргкомитет олимпиады принял решение не выдавать сертификатов тем, кто попал в 5 % участников с наименьшими баллами. Какое минимальное количество баллов нужно было набрать, чтобы получить сертификат об участии? Количество баллов – это целое число."
   ]
  },
  {
   "cell_type": "code",
   "execution_count": 15,
   "metadata": {},
   "outputs": [
    {
     "data": {
      "text/plain": [
       "502.61756476582326"
      ]
     },
     "execution_count": 15,
     "metadata": {},
     "output_type": "execute_result"
    }
   ],
   "source": [
    "# X~N(700,120)\n",
    "# P(X<=x)=0.05\n",
    "norm.ppf(0.05, 700, 120)"
   ]
  },
  {
   "cell_type": "markdown",
   "metadata": {},
   "source": [
    "3.7 Задача 1\n",
    "\n",
    "Управляющий супермаркета хочет оценить, сколько денег покупатели тратят за один поход в супермаркет в среднем. На основании ранее собранных данных известно, что расходы одного покупателя распределены приблизительно нормально. Управляющий взял случайную выборку из 15 покупателей и выяснил, что их средние расходы равны рублей, а выборочное стандартное отклонение равно рублей.\n",
    "Давайте поможем управляющему, решив несколько задачек с помощью Python.\n",
    "\n",
    "Для случая с <b>известным значением σ</b> предел погрешности и его интервалы Z(a/2)*σ/sqrt(n)\n",
    "\n",
    "можно найти, используя функцию <b>confidence_interval_norm()</b>:"
   ]
  },
  {
   "cell_type": "code",
   "execution_count": 16,
   "metadata": {},
   "outputs": [],
   "source": [
    "from scipy.stats import norm\n",
    "import math\n",
    "\n",
    "def confidence_interval_norm(alpha, sigma, n, mean):\n",
    "    value = -norm.ppf(alpha / 2) * sigma / math.sqrt(n)\n",
    "    return mean - value, mean + value"
   ]
  },
  {
   "cell_type": "markdown",
   "metadata": {},
   "source": [
    "Для случая с <b>неизвестным значением σ</b> предел погрешности \n",
    "\n",
    "t(a/2)(k) * s/sqrt(n)\n",
    "\n",
    "находится через <b>confidence_interval_t()</b>"
   ]
  },
  {
   "cell_type": "code",
   "execution_count": 17,
   "metadata": {},
   "outputs": [],
   "source": [
    "from scipy.stats import t\n",
    "import math\n",
    "\n",
    "def confidence_interval_t(alpha, s, n, mean):\n",
    "    value = t.ppf(alpha / 2, n - 1) * s / math.sqrt(n)\n",
    "    return mean - value, mean + value"
   ]
  },
  {
   "cell_type": "markdown",
   "metadata": {},
   "source": [
    "В обоих случаях:\n",
    "\n",
    "        первый аргумент функции — уровень значимости alpha;\n",
    "        второй — выборочное отклонение s или σ;\n",
    "        третий — размер выборки n;\n",
    "        четвертый — среднее значение выборки.\n"
   ]
  },
  {
   "cell_type": "markdown",
   "metadata": {},
   "source": [
    "3.7.4 Задание 4\n",
    "\n",
    "Теперь, используя эту функцию, найдите доверительные интервалы для среднего значения расходов μ. Ответ округлите до целого числа (количества рублей):"
   ]
  },
  {
   "cell_type": "code",
   "execution_count": 18,
   "metadata": {},
   "outputs": [
    {
     "data": {
      "text/plain": [
       "(2181.907328622996, 1818.092671377004)"
      ]
     },
     "execution_count": 18,
     "metadata": {},
     "output_type": "execute_result"
    }
   ],
   "source": [
    "# 90%\n",
    "confidence_interval_t(0.1, 400, 15, 2000)"
   ]
  },
  {
   "cell_type": "code",
   "execution_count": 19,
   "metadata": {},
   "outputs": [
    {
     "data": {
      "text/plain": [
       "(2221.5126166258565, 1778.4873833741433)"
      ]
     },
     "execution_count": 19,
     "metadata": {},
     "output_type": "execute_result"
    }
   ],
   "source": [
    "# 95%\n",
    "confidence_interval_t(0.05, 400, 15, 2000)"
   ]
  },
  {
   "cell_type": "code",
   "execution_count": 20,
   "metadata": {},
   "outputs": [
    {
     "data": {
      "text/plain": [
       "(2307.446995559917, 1692.553004440083)"
      ]
     },
     "execution_count": 20,
     "metadata": {},
     "output_type": "execute_result"
    }
   ],
   "source": [
    "# 99%\n",
    "confidence_interval_t(0.01, 400, 15, 2000)"
   ]
  },
  {
   "cell_type": "markdown",
   "metadata": {},
   "source": [
    "Условия задачи №2\n",
    "\n",
    "Чиновника интересует сумма подоходного налога, выплачиваемого домохозяйствами за год. На случайной выборке из 250 домохозяйств был посчитан средний размер выплаченного налога, и он составил 3540 долларов. Также на основании ранее предоставленных данных из налоговой инспекции известно истинное стандартное отклонение величины подоходного налога, равное 1150 долларов.\n",
    "Необходимо найти 99% доверительный интервал для истинного среднего значения налоговых выплат за год."
   ]
  },
  {
   "cell_type": "code",
   "execution_count": 21,
   "metadata": {},
   "outputs": [
    {
     "data": {
      "text/plain": [
       "(3352.6537883505453, 3727.3462116494547)"
      ]
     },
     "execution_count": 21,
     "metadata": {},
     "output_type": "execute_result"
    }
   ],
   "source": [
    "confidence_interval_norm(0.01, 1150, 250, 3540)"
   ]
  },
  {
   "cell_type": "markdown",
   "metadata": {},
   "source": [
    "3.7.7 Задание 7\n",
    "\n",
    "Теперь, используя эту функцию, найдите 99%-ный доверительный интервал для среднего значения годовых отчислений на подоходный налог . Ответы необходимо округлить до целых значений."
   ]
  },
  {
   "cell_type": "code",
   "execution_count": 22,
   "metadata": {},
   "outputs": [
    {
     "name": "stdout",
     "output_type": "stream",
     "text": [
      "3727.6495563543917\n",
      "3352.3504436456083\n"
     ]
    }
   ],
   "source": [
    "# hz, примерно похоже\n",
    "\n",
    "mu = 3540 + 2.58*1150/250**0.5\n",
    "print(mu)\n",
    "hru = 3540 - 2.58*1150/250**0.5\n",
    "print(hru)"
   ]
  },
  {
   "cell_type": "markdown",
   "metadata": {},
   "source": [
    "Условия задачи №3\n",
    "\n",
    "Ниже представлена случайная выборка значений величины , распределенной нормально. \n",
    "1.2 \t0.2 \t1.6 \t1.9 \t-0.4 \t0.5 \t1.4 \t1.7 \t2.5 \t1.3\n",
    "\n",
    "Необходимо построить доверительный интервал для истинного среднего значения Mu."
   ]
  },
  {
   "cell_type": "markdown",
   "metadata": {},
   "source": [
    "3.7.8 Задание 8\n",
    "\n",
    "Вычислите необходимые выборочные статистики и найдите 95%-ный доверительный интервал для Mu. Укажите нижнюю и верхнюю границу интервала с округлением до двух знаков после разделительной точки."
   ]
  },
  {
   "cell_type": "code",
   "execution_count": 23,
   "metadata": {},
   "outputs": [
    {
     "name": "stdout",
     "output_type": "stream",
     "text": [
      "1.19\n"
     ]
    }
   ],
   "source": [
    "# Считаем среднее арифметическое\n",
    "x = (1.2 + 0.2 + 1.6 + 1.9 + (-0.4) + 0.5 + 1.4 + 1.7 + 2.5 + 1.3)/10\n",
    "print(x)"
   ]
  },
  {
   "cell_type": "code",
   "execution_count": 32,
   "metadata": {
    "scrolled": true
   },
   "outputs": [
    {
     "data": {
      "text/html": [
       "<div>\n",
       "<style scoped>\n",
       "    .dataframe tbody tr th:only-of-type {\n",
       "        vertical-align: middle;\n",
       "    }\n",
       "\n",
       "    .dataframe tbody tr th {\n",
       "        vertical-align: top;\n",
       "    }\n",
       "\n",
       "    .dataframe thead th {\n",
       "        text-align: right;\n",
       "    }\n",
       "</style>\n",
       "<table border=\"1\" class=\"dataframe\">\n",
       "  <thead>\n",
       "    <tr style=\"text-align: right;\">\n",
       "      <th></th>\n",
       "      <th>0</th>\n",
       "    </tr>\n",
       "  </thead>\n",
       "  <tbody>\n",
       "    <tr>\n",
       "      <th>0</th>\n",
       "      <td>1.2</td>\n",
       "    </tr>\n",
       "    <tr>\n",
       "      <th>1</th>\n",
       "      <td>0.2</td>\n",
       "    </tr>\n",
       "    <tr>\n",
       "      <th>2</th>\n",
       "      <td>1.6</td>\n",
       "    </tr>\n",
       "    <tr>\n",
       "      <th>3</th>\n",
       "      <td>1.9</td>\n",
       "    </tr>\n",
       "    <tr>\n",
       "      <th>4</th>\n",
       "      <td>-0.4</td>\n",
       "    </tr>\n",
       "    <tr>\n",
       "      <th>5</th>\n",
       "      <td>0.5</td>\n",
       "    </tr>\n",
       "    <tr>\n",
       "      <th>6</th>\n",
       "      <td>1.4</td>\n",
       "    </tr>\n",
       "    <tr>\n",
       "      <th>7</th>\n",
       "      <td>1.7</td>\n",
       "    </tr>\n",
       "    <tr>\n",
       "      <th>8</th>\n",
       "      <td>2.5</td>\n",
       "    </tr>\n",
       "    <tr>\n",
       "      <th>9</th>\n",
       "      <td>1.3</td>\n",
       "    </tr>\n",
       "  </tbody>\n",
       "</table>\n",
       "</div>"
      ],
      "text/plain": [
       "     0\n",
       "0  1.2\n",
       "1  0.2\n",
       "2  1.6\n",
       "3  1.9\n",
       "4 -0.4\n",
       "5  0.5\n",
       "6  1.4\n",
       "7  1.7\n",
       "8  2.5\n",
       "9  1.3"
      ]
     },
     "execution_count": 32,
     "metadata": {},
     "output_type": "execute_result"
    }
   ],
   "source": [
    "import pandas as pd\n",
    "df = pd.DataFrame([1.2, 0.2, 1.6, 1.9, -0.4, 0.5, 1.4, 1.7, 2.5, 1.3])\n",
    "df"
   ]
  },
  {
   "cell_type": "code",
   "execution_count": 33,
   "metadata": {},
   "outputs": [
    {
     "data": {
      "text/plain": [
       "0    0.862103\n",
       "dtype: float64"
      ]
     },
     "execution_count": 33,
     "metadata": {},
     "output_type": "execute_result"
    }
   ],
   "source": [
    "df.std()"
   ]
  },
  {
   "cell_type": "code",
   "execution_count": 34,
   "metadata": {},
   "outputs": [
    {
     "data": {
      "text/plain": [
       "(1.8067113346924304, 0.5732886653075695)"
      ]
     },
     "execution_count": 34,
     "metadata": {},
     "output_type": "execute_result"
    }
   ],
   "source": [
    "confidence_interval_t(0.05, 0.862103, 10, x)"
   ]
  },
  {
   "cell_type": "raw",
   "metadata": {},
   "source": [
    "АНАЛОГИЧНАЯ ФУНКЦИЯ ДЛЯ ПРОПОРЦИЙ\n",
    "\n",
    "def confidence_interval_t_prop(alpha, p, n):\n",
    "    value = t.ppf(alpha / 2, n - 1) * math.sqrt((p*(1-p)) / n)\n",
    "    return round((p - value),3), round((p + value),3)"
   ]
  },
  {
   "cell_type": "code",
   "execution_count": 47,
   "metadata": {},
   "outputs": [],
   "source": [
    "def confidence_interval_t_prop(alpha, p, n):\n",
    "    value = t.ppf(alpha / 2, n - 1) * math.sqrt((p*(1-p)) / n)\n",
    "    return round((p - value),3), round((p + value),3)"
   ]
  },
  {
   "cell_type": "code",
   "execution_count": 43,
   "metadata": {},
   "outputs": [
    {
     "data": {
      "text/plain": [
       "0.753104139503999"
      ]
     },
     "execution_count": 43,
     "metadata": {},
     "output_type": "execute_result"
    }
   ],
   "source": [
    "0.698 + 1.65*((0.698*(1-0.698))/189)**0.5"
   ]
  },
  {
   "cell_type": "code",
   "execution_count": 44,
   "metadata": {},
   "outputs": [
    {
     "data": {
      "text/plain": [
       "0.6428958604960009"
      ]
     },
     "execution_count": 44,
     "metadata": {},
     "output_type": "execute_result"
    }
   ],
   "source": [
    "0.698 - 1.65*((0.698*(1-0.698))/189)**0.5"
   ]
  },
  {
   "cell_type": "code",
   "execution_count": 48,
   "metadata": {},
   "outputs": [
    {
     "data": {
      "text/plain": [
       "(0.753, 0.643)"
      ]
     },
     "execution_count": 48,
     "metadata": {},
     "output_type": "execute_result"
    }
   ],
   "source": [
    "#тогда на основе этой функции будет так\n",
    "\n",
    "confidence_interval_t_prop(0.1, 0.698, 189)"
   ]
  },
  {
   "cell_type": "markdown",
   "metadata": {},
   "source": [
    "3.9. Находим z-критическое и t-критическое\n",
    "\n",
    "Найти значение любого z-критического можно самостоятельно в Python, используя функцию norm.ppf(). Импортируем необходимую для этого библиотеку: \n",
    "\n",
    "<b>from scipy.stats import norm</b> \n",
    "\n",
    "Самый простой способ — найти и получить ответ как = -norm.ppf(α/2).\n",
    "\n",
    "Например, если уровень доверия 1-alpha равен 97 %, значит alpha/2 = 0.015. \n",
    "Тогда мы найдем z(alpha/2) как = -norm.ppf(0.015), то есть 2.17.\n"
   ]
  },
  {
   "cell_type": "code",
   "execution_count": 49,
   "metadata": {},
   "outputs": [
    {
     "name": "stdout",
     "output_type": "stream",
     "text": [
      "2.1700903775845606\n"
     ]
    }
   ],
   "source": [
    "alpha = 0.03\n",
    "value = -norm.ppf(alpha/2)\n",
    "print(value) # 2.17"
   ]
  },
  {
   "cell_type": "markdown",
   "metadata": {},
   "source": [
    "3.9.1 Задание 1\n",
    "\n",
    "Найдите z-критическое для интервала с уровнем доверия 93 %. Укажите с точностью до 2 знаков после разделительной точки."
   ]
  },
  {
   "cell_type": "code",
   "execution_count": 50,
   "metadata": {},
   "outputs": [
    {
     "name": "stdout",
     "output_type": "stream",
     "text": [
      "1.8119106729525978\n"
     ]
    }
   ],
   "source": [
    "alpha = 0.07\n",
    "value = -norm.ppf(alpha/2)\n",
    "print(value)"
   ]
  },
  {
   "cell_type": "markdown",
   "metadata": {},
   "source": [
    "3.9.2 Задание 2\n",
    "\n",
    "Найдите критические значения для следующих доверительных интервалов (ответ укажите с точностью до двух знаков после разделительной точки):"
   ]
  },
  {
   "cell_type": "code",
   "execution_count": 51,
   "metadata": {},
   "outputs": [
    {
     "name": "stdout",
     "output_type": "stream",
     "text": [
      "2.575829303548901\n"
     ]
    }
   ],
   "source": [
    "#1. Доверительный интервал для среднего нормально распределённой величины mu,\n",
    "#на выборке размером n=10, если σ известна, на 99 % уровне доверия\n",
    "\n",
    "alpha = 0.01\n",
    "value = -norm.ppf(alpha/2)\n",
    "print(value)"
   ]
  },
  {
   "cell_type": "code",
   "execution_count": 53,
   "metadata": {},
   "outputs": [
    {
     "name": "stdout",
     "output_type": "stream",
     "text": [
      "3.2498355440153697\n"
     ]
    }
   ],
   "source": [
    "#2. Доверительный интервал для среднего нормально распределённой величины mu,\n",
    "#на выборке размером n=10, если σ неизвестна, на 99 % уровне доверия\n",
    "\n",
    "value2 = t.ppf((1+0.99)/2, 10-1)\n",
    "print(value2)"
   ]
  },
  {
   "cell_type": "code",
   "execution_count": 57,
   "metadata": {},
   "outputs": [
    {
     "name": "stdout",
     "output_type": "stream",
     "text": [
      "1.9842169515086827\n"
     ]
    }
   ],
   "source": [
    "#3. Доверительный интервал для среднего mu, на выборке размером n=100, σ неизвестна, на 95% уровне доверия\n",
    "\n",
    "value3 = t.ppf((1+0.95)/2, 100-1)\n",
    "print(value3)"
   ]
  },
  {
   "cell_type": "code",
   "execution_count": 58,
   "metadata": {},
   "outputs": [
    {
     "name": "stdout",
     "output_type": "stream",
     "text": [
      "1.9599639845400545\n"
     ]
    }
   ],
   "source": [
    "#4. Доверительный интервал для пропорции p, на выборке размером n=100,на 95% уровне доверия\n",
    "\n",
    "alpha = 0.05\n",
    "value = -norm.ppf(alpha/2)\n",
    "print(value)"
   ]
  },
  {
   "cell_type": "code",
   "execution_count": null,
   "metadata": {},
   "outputs": [],
   "source": []
  },
  {
   "cell_type": "code",
   "execution_count": null,
   "metadata": {},
   "outputs": [],
   "source": []
  },
  {
   "cell_type": "code",
   "execution_count": null,
   "metadata": {},
   "outputs": [],
   "source": []
  }
 ],
 "metadata": {
  "kernelspec": {
   "display_name": "Python 3",
   "language": "python",
   "name": "python3"
  },
  "language_info": {
   "codemirror_mode": {
    "name": "ipython",
    "version": 3
   },
   "file_extension": ".py",
   "mimetype": "text/x-python",
   "name": "python",
   "nbconvert_exporter": "python",
   "pygments_lexer": "ipython3",
   "version": "3.7.6"
  }
 },
 "nbformat": 4,
 "nbformat_minor": 4
}
