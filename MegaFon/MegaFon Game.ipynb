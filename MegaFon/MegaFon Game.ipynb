{
 "cells": [
  {
   "cell_type": "markdown",
   "metadata": {},
   "source": [
    "https://megacomics.geecko.ru/game"
   ]
  },
  {
   "cell_type": "markdown",
   "metadata": {},
   "source": [
    "<b>Задание 1</b>\n",
    "\n",
    "Напиши функцию которая принимает положительное число и возвращает значение «Password is X», где X — переданное число, дополненное нулями до 5 цифр.\n",
    "\n",
    "Пример:\n",
    "\n",
    "stringformat(321) == \"Password is 00321\""
   ]
  },
  {
   "cell_type": "code",
   "execution_count": 1,
   "metadata": {},
   "outputs": [],
   "source": [
    "def string_format(n):\n",
    "    if len(str(n))<5:\n",
    "        y = 5 - len(str(n))\n",
    "        x = y*(str(0))+str(n)\n",
    "    else:\n",
    "        x = n\n",
    "    return 'Password is {}'.format(x)"
   ]
  },
  {
   "cell_type": "code",
   "execution_count": 2,
   "metadata": {},
   "outputs": [
    {
     "data": {
      "text/plain": [
       "'Password is 00123'"
      ]
     },
     "execution_count": 2,
     "metadata": {},
     "output_type": "execute_result"
    }
   ],
   "source": [
    "string_format(123)"
   ]
  },
  {
   "cell_type": "markdown",
   "metadata": {},
   "source": [
    "<b>Задание 2</b>\n",
    "\n",
    "Дано целое число n. Необходимо вычислить последнюю цифру n-го числа последовательности, заданной следующим соотношением:\n",
    "\n",
    "F0 = 0\n",
    "\n",
    "F1 = 1\n",
    "\n",
    "Fn = F(n-1) + F(n−2) при n >= 2"
   ]
  },
  {
   "cell_type": "code",
   "execution_count": 3,
   "metadata": {},
   "outputs": [],
   "source": [
    "# фибоначи, переписать красиво\n",
    "def last_digit(n):\n",
    "    a=1\n",
    "    b=1\n",
    "    i=2\n",
    "    while i<n:\n",
    "        c = (a + b)%10\n",
    "        a = b\n",
    "        b = c\n",
    "        i = i + 1\n",
    "    return c"
   ]
  },
  {
   "cell_type": "code",
   "execution_count": 4,
   "metadata": {},
   "outputs": [
    {
     "data": {
      "text/plain": [
       "5"
      ]
     },
     "execution_count": 4,
     "metadata": {},
     "output_type": "execute_result"
    }
   ],
   "source": [
    "last_digit(10)"
   ]
  },
  {
   "cell_type": "markdown",
   "metadata": {},
   "source": [
    "<b>Задача 3</b>\n",
    "\n",
    "Написать функцию check_availability которая принимает 2 аргумента:  \n",
    "\n",
    "    schedule - расписание занятости в формате \"hh:mm-hh:mm\" 24-h.  Расписание в виде массива строк, состоящих из времени начала и конца временного отрезка, разделенных \"-\" (Например, [\"09:30-10:15\"]).\n",
    "\n",
    "    currentTime - строка с определенным временем в формате hh:mm 24-h, для которой функция будет проверять доступность на основе расписания.\n",
    "\n",
    "Если во время currentTime  не запланировано никаких работ с лифтом(есть свободный временной слот), функция должна возвращать строку \"available\". \n",
    "Если в currentTime уже занято, функция должна возвращать строку с временем, когда будет доступно.  \n",
    "\n",
    "Если время, переданное в качестве входных данных, равно времени окончания, функция также должна возвращать значение \"available\".\n",
    "\n",
    "Примеры:\n",
    "\n",
    "check_availability([\"09:30-10:15\", \"12:20-15:50\"], \"11:00\") --> \"available\"\n",
    "\n",
    "check_availability([\"09:30-10:15\", \"12:20-15:50\"], \"10:00\") --> \"10:15\"\n",
    "\n",
    "\n",
    "([\"07:40-07:50\", \"07:50-08:00\"], \"7:45\") "
   ]
  },
  {
   "cell_type": "code",
   "execution_count": 5,
   "metadata": {},
   "outputs": [],
   "source": [
    "def check_availability(schedule, current_time):\n",
    "        \n",
    "    # Операции с current_time - получаем значение в минутах\n",
    "    \n",
    "    c_t = current_time.split(':')\n",
    "    c_h = int(c_t[0])*60 + int(c_t[1])\n",
    "    print('currentTime:' , current_time)\n",
    "    \n",
    "    # Разбиваем первый временной диапазон, получаем значения в минутах\n",
    "    \n",
    "    sched1 = schedule[0].split('-')\n",
    "    print('Первый диапазон:', sched1)\n",
    "    \n",
    "    mmm0 = sched1[0].split(':')\n",
    "    m_h0 = int(mmm0[0])*60 + int(mmm0[1])\n",
    "    \n",
    "    mmm = sched1[1].split(':')\n",
    "    m_h = int(mmm[0])*60 + int(mmm[1])\n",
    "    \n",
    "    # Разбиваем второй временной диапазон, получаем значения в минутах\n",
    "\n",
    "    sched2 = schedule[1].split('-')\n",
    "    print('Второй диапазон:', sched2)\n",
    "    \n",
    "    mmm2 = sched2[0].split(':')\n",
    "    m_h2 = int(mmm2[0])*60 + int(mmm2[1])\n",
    "\n",
    "    mmm3 = sched2[1].split(':')\n",
    "    m_h3 = int(mmm3[0])*60 + int(mmm3[1])\n",
    "    \n",
    "    print('Доступность лифта: ', end='')\n",
    "\n",
    "    if m_h<=c_h<m_h2 or c_h<m_h0 or c_h>=m_h3:    #проверить условия, возможно избыточность\n",
    "        return \"available\"\n",
    "    elif (abs(c_h - m_h) < abs(c_h - m_h2)) and (c_h<m_h2):\n",
    "        return sched1[1]\n",
    "    elif (abs(c_h - m_h) > abs(c_h - m_h2)) and (c_h>=m_h2):\n",
    "        return sched2[1]\n",
    "    elif ((abs(c_h - m_h) > abs(c_h - m_h2)) or (abs(c_h - m_h) < abs(c_h - m_h2))) and (m_h2 < m_h): # на случай пересечения\n",
    "        return sched2[1]\n",
    "    elif abs(c_h - m_h) > abs(c_h - m_h2):\n",
    "        return sched2[0]\n",
    "    else:\n",
    "        return sched2[1]"
   ]
  },
  {
   "cell_type": "code",
   "execution_count": 6,
   "metadata": {},
   "outputs": [
    {
     "name": "stdout",
     "output_type": "stream",
     "text": [
      "currentTime: 15:48\n",
      "Первый диапазон: ['09:30', '10:15']\n",
      "Второй диапазон: ['12:20', '15:50']\n",
      "Доступность лифта: "
     ]
    },
    {
     "data": {
      "text/plain": [
       "'15:50'"
      ]
     },
     "execution_count": 6,
     "metadata": {},
     "output_type": "execute_result"
    }
   ],
   "source": [
    "check_availability([\"09:30-10:15\", \"12:20-15:50\"], \"15:48\")"
   ]
  },
  {
   "cell_type": "markdown",
   "metadata": {},
   "source": [
    "<b> Задание 4 </b>\n",
    "\n",
    "У вас есть шифр, чтобы подключить напрямую и отключить всю систему пятнистого черепа. Для этого нужно сделать все правильно, вот задача:\n",
    "\n",
    "Перед вами в ряд расположены рубильники switches. Вы можете переключать каждый не более switches[i] раз.\n",
    "\n",
    "Но если вы переключаете 2 рубильника подряд, у системы срабатывает защитный механизм и вы проваливаете задачу. Определите, какое максимальное количество переключений вы сможете сделать.\n",
    "\n",
    "<b>На входе:</b> массив неотрицательных целых чисел switches, switches.length >= 0\n",
    "\n",
    "<b>На выходе:</b> целое число - максимальное количество переключений  \n",
    "\n",
    "Пример:  \n",
    "\n",
    "switches =  [2,7,9,3,1]\n",
    "change_the_switches(switches) => 12\n",
    "\n",
    "переключение первого рубильника (2 раза), третьего (9 раз) и пятого (1 раз) - максимальное значение 12\n",
    "\n",
    "[1, 3]  => 3"
   ]
  },
  {
   "cell_type": "code",
   "execution_count": 38,
   "metadata": {},
   "outputs": [],
   "source": [
    "switches = [5]"
   ]
  },
  {
   "cell_type": "code",
   "execution_count": 39,
   "metadata": {},
   "outputs": [],
   "source": [
    "def change_the_switches(switches):\n",
    "    if len(switches) == 0:\n",
    "        return 0\n",
    "    elif len(switches) == 1:\n",
    "        return switches[0]\n",
    "    summ = switches[0]\n",
    "    summ2 = switches[1]\n",
    "    i=0\n",
    "    j=1\n",
    "    while i<(len(switches)):\n",
    "        if (i+2)<=(len(switches)-1) and (i+3)<=(len(switches)-1):\n",
    "            if switches[i+2]>switches[i+3]:\n",
    "                summ += switches[i+2]\n",
    "                i = i+2\n",
    "            else:\n",
    "                summ += switches[i+3]\n",
    "                i = i+3\n",
    "        elif (i+2)<=(len(switches)-1) and (i+3)>(len(switches)-1):\n",
    "            summ += switches[i+2]\n",
    "            break\n",
    "        elif (i+2)>(len(switches)-1) and (i+3)>(len(switches)-1):\n",
    "            break\n",
    "    while j<(len(switches)):\n",
    "        if (j+2)<=(len(switches)-1) and (j+3)<=(len(switches)-1):\n",
    "            if switches[j+2]>switches[j+3]:\n",
    "                summ2 += switches[j+2]\n",
    "                j = j+2\n",
    "            else:\n",
    "                summ2 += switches[j+3]\n",
    "                j = j+3\n",
    "        elif (j+2)<=(len(switches)-1) and (j+3)>(len(switches)-1):\n",
    "            summ2 += switches[j+2]\n",
    "            break\n",
    "        elif (j+2)>(len(switches)-1) and (j+3)>(len(switches)-1):\n",
    "            break\n",
    "    if summ>=summ2:\n",
    "        return summ\n",
    "    else:\n",
    "        return summ2"
   ]
  },
  {
   "cell_type": "code",
   "execution_count": 40,
   "metadata": {},
   "outputs": [
    {
     "data": {
      "text/plain": [
       "5"
      ]
     },
     "execution_count": 40,
     "metadata": {},
     "output_type": "execute_result"
    }
   ],
   "source": [
    "change_the_switches(switches)"
   ]
  }
 ],
 "metadata": {
  "kernelspec": {
   "display_name": "Python 3",
   "language": "python",
   "name": "python3"
  },
  "language_info": {
   "codemirror_mode": {
    "name": "ipython",
    "version": 3
   },
   "file_extension": ".py",
   "mimetype": "text/x-python",
   "name": "python",
   "nbconvert_exporter": "python",
   "pygments_lexer": "ipython3",
   "version": "3.7.9"
  }
 },
 "nbformat": 4,
 "nbformat_minor": 4
}
